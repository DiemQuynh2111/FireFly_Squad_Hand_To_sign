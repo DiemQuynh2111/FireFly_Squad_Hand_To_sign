{
 "cells": [
  {
   "cell_type": "code",
   "execution_count": 2,
   "id": "5a4d9324",
   "metadata": {},
   "outputs": [
    {
     "name": "stdout",
     "output_type": "stream",
     "text": [
      " Đang ghi âm... Nói đi bạn!\n",
      "Ghi âm xong, đã lưu thành 'thu_am.wav'\n",
      " Đang nhận diện giọng nói...\n",
      "Văn bản được nhận diện:\n",
      "tôi nuôi mèo\n"
     ]
    }
   ],
   "source": [
    "import sounddevice as sd\n",
    "from scipy.io.wavfile import write\n",
    "import io\n",
    "from google.cloud import speech\n",
    "from google.oauth2 import service_account\n",
    "\n",
    "# === BƯỚC 1: GHI ÂM GIỌNG NÓI ===\n",
    "fs = 48000  # Tần số mẫu\n",
    "seconds = 5 # Thời lượng ghi âm (giây)\n",
    "\n",
    "print(\" Đang ghi âm... Nói đi bạn!\")\n",
    "recording = sd.rec(int(seconds * fs), samplerate=fs, channels=1, dtype='int16')\n",
    "sd.wait()  # Đợi ghi âm xong\n",
    "write(\"thu_am.wav\", fs, recording)\n",
    "print(\"Ghi âm xong, đã lưu thành 'thu_am.wav'\")\n",
    "\n",
    "# === BƯỚC 2: CẤU HÌNH GOOGLE CLOUD SPEECH-TO-TEXT ===\n",
    "client_file = \"C:/Users/ACER/Downloads/ggspeech-456316-7b6f651a67a9.json\"\n",
    "credentials = service_account.Credentials.from_service_account_file(client_file)\n",
    "client = speech.SpeechClient(credentials=credentials)\n",
    "\n",
    "# Đọc file âm thanh\n",
    "with io.open(\"thu_am.wav\", \"rb\") as f:\n",
    "    content = f.read()\n",
    "\n",
    "audio = speech.RecognitionAudio(content=content)\n",
    "\n",
    "config = speech.RecognitionConfig(\n",
    "    encoding=speech.RecognitionConfig.AudioEncoding.LINEAR16,\n",
    "    sample_rate_hertz=48000,\n",
    "    language_code=\"vi-VN\"\n",
    ")\n",
    "\n",
    "# === BƯỚC 3: GỬI YÊU CẦU VÀ IN KẾT QUẢ ===\n",
    "print(\" Đang nhận diện giọng nói...\")\n",
    "response = client.recognize(config=config, audio=audio)\n",
    "\n",
    "print(\"Văn bản được nhận diện:\")\n",
    "for result in response.results:\n",
    "    print(result.alternatives[0].transcript)\n",
    "\n"
   ]
  },
  {
   "cell_type": "code",
   "execution_count": 4,
   "id": "f3a3ec24",
   "metadata": {},
   "outputs": [
    {
     "name": "stdout",
     "output_type": "stream",
     "text": [
      "Văn bản nhận diện: tôi nuôi mèo\n"
     ]
    }
   ],
   "source": [
    "for result in response.results:\n",
    "    recognized_text = result.alternatives[0].transcript\n",
    "    print(\"Văn bản nhận diện:\", recognized_text)"
   ]
  },
  {
   "cell_type": "code",
   "execution_count": null,
   "id": "2ed179ca",
   "metadata": {},
   "outputs": [],
   "source": [
    "import nltk\n",
    "import string\n",
    "import unicodedata\n",
    "import underthesea\n",
    "nltk.download('punkt')"
   ]
  },
  {
   "cell_type": "code",
   "execution_count": null,
   "id": "35fbbd0f",
   "metadata": {},
   "outputs": [],
   "source": [
    "punctuations = set(string.punctuation)"
   ]
  },
  {
   "cell_type": "code",
   "execution_count": null,
   "id": "86128e52",
   "metadata": {},
   "outputs": [],
   "source": [
    "word = recognized_text"
   ]
  },
  {
   "cell_type": "code",
   "execution_count": null,
   "id": "b739d0bf",
   "metadata": {},
   "outputs": [],
   "source": [
    "# Chuẩn hóa Unicode\n",
    "normalized_text = unicodedata.normalize(\"NFKC\", word)\n",
    "# Chuyển về chữ thường\n",
    "lower_text = normalized_text.lower()\n",
    "print(lower_text)"
   ]
  },
  {
   "cell_type": "code",
   "execution_count": null,
   "id": "7e69bd90",
   "metadata": {},
   "outputs": [],
   "source": [
    "underthesea_tokens = underthesea.word_tokenize(lower_text)"
   ]
  },
  {
   "cell_type": "code",
   "execution_count": null,
   "id": "440bdd2d",
   "metadata": {},
   "outputs": [],
   "source": [
    "underthesea_punctuations_filtered = [token for token in underthesea_tokens if token not in punctuations]\n",
    "print(len(underthesea_tokens))\n",
    "print(len(underthesea_punctuations_filtered))\n",
    "print(underthesea_punctuations_filtered)"
   ]
  },
  {
   "cell_type": "code",
   "execution_count": null,
   "id": "26cf67b1",
   "metadata": {},
   "outputs": [],
   "source": [
    "# Danh sách stopwords tiếng Việt\n",
    "stopwords = ['và', 'là', 'của', 'có', 'trong', 'những', 'đã', 'này', 'đó', 'thì', 'ra', 'khi', 'vì', 'tôi', 'đang']\n",
    "\n",
    "# Loại bỏ stopword\n",
    "filtered_words = [underthesea_punctuations_filtered for underthesea_punctuations_filtered in underthesea_punctuations_filtered if underthesea_punctuations_filtered not in stopwords]\n",
    "\n",
    "print(\"Kết quả sau khi loại bỏ stopword:\", filtered_words)\n"
   ]
  },
  {
   "cell_type": "code",
   "execution_count": null,
   "id": "1435c63a",
   "metadata": {},
   "outputs": [],
   "source": []
  },
  {
   "cell_type": "code",
   "execution_count": null,
   "id": "9dfdf6cb",
   "metadata": {},
   "outputs": [],
   "source": [
    "\n",
    "\n",
    "from moviepy.editor import VideoFileClip, concatenate_videoclips\n",
    "import os\n",
    "\n",
    "def text_to_video(words_list, video_folder, output_video=\"output11_video.mp4\"):\n",
    "    # Danh sách để chứa các video clip\n",
    "    clips = []\n",
    "\n",
    "    # Duyệt qua từng từ trong danh sách và ánh xạ đến video\n",
    "    for word in words_list:\n",
    "        video_file = os.path.join(video_folder, f\"{word.lower()}.mp4\")\n",
    "        if os.path.exists(video_file):\n",
    "            clip = VideoFileClip(video_file)\n",
    "            clips.append(clip)\n",
    "        else:\n",
    "            print(f\"Không tìm thấy video cho từ: {word}\")\n",
    "\n",
    "    # Kết hợp các video lại với nhau\n",
    "    if clips:\n",
    "        final_clip = concatenate_videoclips(clips, method=\"compose\")\n",
    "        final_clip.write_videofile(output_video, fps=24)\n",
    "    else:\n",
    "        print(\"Không có video để tạo thành video cuối.\")\n",
    "\n",
    "video_folder = \"D:\\\\firefly\\\\project_folder\\\\clips\"\n",
    "  # Đường dẫn tới thư mục chứa video\n",
    "words_list = filtered_words  # Danh sách các từ bạn muốn ánh xạ tới video\n",
    "text_to_video(words_list, video_folder)\n"
   ]
  },
  {
   "cell_type": "code",
   "execution_count": null,
   "id": "76cd6bab",
   "metadata": {},
   "outputs": [],
   "source": []
  }
 ],
 "metadata": {
  "kernelspec": {
   "display_name": "anylabeling",
   "language": "python",
   "name": "python3"
  },
  "language_info": {
   "codemirror_mode": {
    "name": "ipython",
    "version": 3
   },
   "file_extension": ".py",
   "mimetype": "text/x-python",
   "name": "python",
   "nbconvert_exporter": "python",
   "pygments_lexer": "ipython3",
   "version": "3.12.7"
  }
 },
 "nbformat": 4,
 "nbformat_minor": 5
}
